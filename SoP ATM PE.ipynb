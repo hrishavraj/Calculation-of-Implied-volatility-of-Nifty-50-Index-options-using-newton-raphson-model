{
 "cells": [
  {
   "cell_type": "code",
   "execution_count": 11,
   "metadata": {},
   "outputs": [],
   "source": [
    "import pandas as pd\n",
    "import xlrd\n",
    "xls = pd.ExcelFile(r\"C:\\Users\\hrish\\Desktop\\SoP Data\\PE Data from Apr 18 to Feb 19.xlsx\")\n",
    "months = ['April','May','June','July','August','Sep','Oct','Nov','Dec,18','Jan,19','Feb,19','Mar,19']\n",
    "for i in range(1,13):\n",
    "    df = xls.parse(i)\n",
    "    df['diff'] = abs(df['Strike Price']-df['Underlying Value'])\n",
    "    s = df.groupby('Date')\n",
    "    a=s.min()['diff'].count()\n",
    "    t = df['diff'].count()\n",
    "    c=[]\n",
    "    prev = 0\n",
    "    for x in range(0,a):\n",
    "        for y in range(prev,prev + s.count()['Dummy'][x]):\n",
    "            prev = prev+1\n",
    "            if df['diff'][y] == s.min()['diff'][x] and df['Dummy'][y] == s.min()['Dummy'][x]:\n",
    "                c.append(1)\n",
    "            else:\n",
    "                c.append(0)\n",
    "            if y>=t:\n",
    "                break\n",
    "    df['check'] = c\n",
    "    d2= df[df['check']>0]\n",
    "    name = r\"C:\\Users\\hrish\\Desktop\\SoP Data\" + \"\\sorted\"   + months[i-1] + \".xlsx\"\n",
    "    aname = \"ATM_\" + months[i-1]\n",
    "    d2.to_excel(name,sheet_name=aname, index=False)"
   ]
  },
  {
   "cell_type": "code",
   "execution_count": 5,
   "metadata": {},
   "outputs": [],
   "source": [
    "import pandas as pd\n",
    "import xlrd\n",
    "xls = pd.ExcelFile(r\"C:\\Users\\hrish\\Desktop\\SoP Data\\PE Data from Apr 18 to Feb 19.xlsx\")"
   ]
  },
  {
   "cell_type": "code",
   "execution_count": null,
   "metadata": {},
   "outputs": [],
   "source": []
  },
  {
   "cell_type": "code",
   "execution_count": null,
   "metadata": {},
   "outputs": [],
   "source": []
  }
 ],
 "metadata": {
  "kernelspec": {
   "display_name": "Python 3",
   "language": "python",
   "name": "python3"
  },
  "language_info": {
   "codemirror_mode": {
    "name": "ipython",
    "version": 3
   },
   "file_extension": ".py",
   "mimetype": "text/x-python",
   "name": "python",
   "nbconvert_exporter": "python",
   "pygments_lexer": "ipython3",
   "version": "3.6.5"
  }
 },
 "nbformat": 4,
 "nbformat_minor": 2
}
